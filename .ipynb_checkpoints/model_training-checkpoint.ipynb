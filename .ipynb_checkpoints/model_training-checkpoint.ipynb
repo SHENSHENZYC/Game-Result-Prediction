{
 "cells": [
  {
   "cell_type": "code",
   "execution_count": 1,
   "id": "55115c09-c2a0-4b60-b6f2-9eca4c3087b5",
   "metadata": {},
   "outputs": [],
   "source": [
    "import numpy as np\n",
    "import pandas as pd\n",
    "import matplotlib.pyplot as plt\n",
    "import json\n",
    "import pickle\n",
    "from sklearn.model_selection import train_test_split\n",
    "from sklearn.model_selection import GridSearchCV\n",
    "from sklearn.metrics import accuracy_score\n",
    "from sklearn.tree import DecisionTreeClassifier\n",
    "from sklearn.ensemble import RandomForestClassifier, GradientBoostingClassifier\n",
    "from sklearn.linear_model import SGDClassifier\n",
    "\n",
    "%config InlineBackend.figure_format = 'retina'"
   ]
  },
  {
   "cell_type": "code",
   "execution_count": 2,
   "id": "3e9308dd-c03f-4f5a-89cd-fecdd31bd446",
   "metadata": {},
   "outputs": [
    {
     "data": {
      "text/plain": [
       "Index(['gameId', 'creationTime', 'gameDuration', 'seasonId', 'winner',\n",
       "       'firstBlood', 'firstTower', 'firstInhibitor', 'firstBaron',\n",
       "       'firstDragon', 'firstRiftHerald', 't1_champ1id', 't1_champ1_sum1',\n",
       "       't1_champ1_sum2', 't1_champ2id', 't1_champ2_sum1', 't1_champ2_sum2',\n",
       "       't1_champ3id', 't1_champ3_sum1', 't1_champ3_sum2', 't1_champ4id',\n",
       "       't1_champ4_sum1', 't1_champ4_sum2', 't1_champ5id', 't1_champ5_sum1',\n",
       "       't1_champ5_sum2', 't1_towerKills', 't1_inhibitorKills', 't1_baronKills',\n",
       "       't1_dragonKills', 't1_riftHeraldKills', 't1_ban1', 't1_ban2', 't1_ban3',\n",
       "       't1_ban4', 't1_ban5', 't2_champ1id', 't2_champ1_sum1', 't2_champ1_sum2',\n",
       "       't2_champ2id', 't2_champ2_sum1', 't2_champ2_sum2', 't2_champ3id',\n",
       "       't2_champ3_sum1', 't2_champ3_sum2', 't2_champ4id', 't2_champ4_sum1',\n",
       "       't2_champ4_sum2', 't2_champ5id', 't2_champ5_sum1', 't2_champ5_sum2',\n",
       "       't2_towerKills', 't2_inhibitorKills', 't2_baronKills', 't2_dragonKills',\n",
       "       't2_riftHeraldKills', 't2_ban1', 't2_ban2', 't2_ban3', 't2_ban4',\n",
       "       't2_ban5'],\n",
       "      dtype='object')"
      ]
     },
     "execution_count": 2,
     "metadata": {},
     "output_type": "execute_result"
    }
   ],
   "source": [
    "games = pd.read_csv('data/games.csv')\n",
    "games.columns"
   ]
  },
  {
   "cell_type": "markdown",
   "id": "7aae9175-c840-4e70-8adf-5e6990503eb7",
   "metadata": {},
   "source": [
    "We use `gameId` as index. `creationTime` and `gameDuration` are considered irrelavant to prediction, so we remove them from the data set. All game instances are in season 9, so we could remove the impact of seasons out of consideration."
   ]
  },
  {
   "cell_type": "code",
   "execution_count": 3,
   "id": "cc9f5bf3-1007-4859-8fca-2873bed6bc3a",
   "metadata": {},
   "outputs": [
    {
     "data": {
      "text/plain": [
       "Index(['winner', 'firstBlood', 'firstTower', 'firstInhibitor', 'firstBaron',\n",
       "       'firstDragon', 'firstRiftHerald', 't1_champ1id', 't1_champ1_sum1',\n",
       "       't1_champ1_sum2', 't1_champ2id', 't1_champ2_sum1', 't1_champ2_sum2',\n",
       "       't1_champ3id', 't1_champ3_sum1', 't1_champ3_sum2', 't1_champ4id',\n",
       "       't1_champ4_sum1', 't1_champ4_sum2', 't1_champ5id', 't1_champ5_sum1',\n",
       "       't1_champ5_sum2', 't1_towerKills', 't1_inhibitorKills', 't1_baronKills',\n",
       "       't1_dragonKills', 't1_riftHeraldKills', 't1_ban1', 't1_ban2', 't1_ban3',\n",
       "       't1_ban4', 't1_ban5', 't2_champ1id', 't2_champ1_sum1', 't2_champ1_sum2',\n",
       "       't2_champ2id', 't2_champ2_sum1', 't2_champ2_sum2', 't2_champ3id',\n",
       "       't2_champ3_sum1', 't2_champ3_sum2', 't2_champ4id', 't2_champ4_sum1',\n",
       "       't2_champ4_sum2', 't2_champ5id', 't2_champ5_sum1', 't2_champ5_sum2',\n",
       "       't2_towerKills', 't2_inhibitorKills', 't2_baronKills', 't2_dragonKills',\n",
       "       't2_riftHeraldKills', 't2_ban1', 't2_ban2', 't2_ban3', 't2_ban4',\n",
       "       't2_ban5'],\n",
       "      dtype='object')"
      ]
     },
     "execution_count": 3,
     "metadata": {},
     "output_type": "execute_result"
    }
   ],
   "source": [
    "# get data set ready for training\n",
    "        \n",
    "games = games.set_index('gameId').drop(labels=['creationTime', 'gameDuration', 'seasonId'], axis=1)\n",
    "\n",
    "# every column should be categorical\n",
    "# - champion names, tags and summoner spells names are in nature categorical\n",
    "# - first target indicates which team gets first target, so categorical\n",
    "# - number of kills are ordinal, so categorical as well. \n",
    "\n",
    "for col_name in games.columns:\n",
    "    games[col_name] = games[col_name].astype('category')\n",
    "    \n",
    "games.columns"
   ]
  },
  {
   "cell_type": "markdown",
   "id": "5985723d-adb8-4409-88dc-cac370058e1b",
   "metadata": {},
   "source": [
    "### Model Training"
   ]
  },
  {
   "cell_type": "markdown",
   "id": "913aefe1-f13f-429b-86b5-09315ba1f215",
   "metadata": {},
   "source": [
    "Pregame model: \n",
    "\n",
    "Predict the game result after ban-pick phase, namely with the information of picked champions, banned champions and the summoner spells each champion brings to the game. "
   ]
  },
  {
   "cell_type": "code",
   "execution_count": 4,
   "id": "80367a8b-2a1e-4239-b3f5-1aee441036a0",
   "metadata": {},
   "outputs": [
    {
     "data": {
      "text/plain": [
       "(36043, 15447, 36043, 15447)"
      ]
     },
     "execution_count": 4,
     "metadata": {},
     "output_type": "execute_result"
    }
   ],
   "source": [
    "pre_x = games[['t1_champ1id', 't1_champ1_sum1',\n",
    "                't1_champ1_sum2', 't1_champ2id', 't1_champ2_sum1', 't1_champ2_sum2',\n",
    "                't1_champ3id', 't1_champ3_sum1', 't1_champ3_sum2', 't1_champ4id',\n",
    "                't1_champ4_sum1', 't1_champ4_sum2', 't1_champ5id', 't1_champ5_sum1',\n",
    "                't1_champ5_sum2', 't1_ban1', 't1_ban2', 't1_ban3',\n",
    "                't1_ban4', 't1_ban5', 't2_champ1id', 't2_champ1_sum1', 't2_champ1_sum2',\n",
    "                't2_champ2id', 't2_champ2_sum1', 't2_champ2_sum2', 't2_champ3id',\n",
    "                't2_champ3_sum1', 't2_champ3_sum2', 't2_champ4id', 't2_champ4_sum1',\n",
    "                't2_champ4_sum2', 't2_champ5id', 't2_champ5_sum1', 't2_champ5_sum2',\n",
    "                't2_ban1', 't2_ban2', 't2_ban3', 't2_ban4',\n",
    "                't2_ban5']].copy()\n",
    "\n",
    "pre_y = games['winner'].copy()\n",
    "pre_x_train, pre_x_test, pre_y_train, pre_y_test = train_test_split(pre_x, pre_y, test_size=0.3, random_state=42)\n",
    "len(pre_x_train), len(pre_x_test), len(pre_y_train), len(pre_y_test)"
   ]
  },
  {
   "cell_type": "code",
   "execution_count": 5,
   "id": "34d2a2dc-657e-4d03-a373-9d17b733ea1e",
   "metadata": {},
   "outputs": [
    {
     "data": {
      "text/plain": [
       "0.5122030167670097"
      ]
     },
     "execution_count": 5,
     "metadata": {},
     "output_type": "execute_result"
    }
   ],
   "source": [
    "params = {'max_depth': range(4, 30, 2)}\n",
    "pre_dt = GridSearchCV(DecisionTreeClassifier(), params, n_jobs=4)\n",
    "pre_dt.fit(pre_x_train, pre_y_train)\n",
    "pre_best_dt = pre_dt.best_estimator_\n",
    "accuracy_score(pre_best_dt.predict(pre_x_test), pre_y_test)"
   ]
  },
  {
   "cell_type": "code",
   "execution_count": 6,
   "id": "a6f5cad5-a956-4075-9489-1460fc1d23f9",
   "metadata": {},
   "outputs": [
    {
     "data": {
      "text/plain": [
       "0.5208131028678707"
      ]
     },
     "execution_count": 6,
     "metadata": {},
     "output_type": "execute_result"
    }
   ],
   "source": [
    "params = {'max_depth': range(4, 30, 2)}\n",
    "pre_rf = GridSearchCV(RandomForestClassifier(), params, n_jobs=4)\n",
    "pre_rf.fit(pre_x_train, pre_y_train)\n",
    "pre_best_rf = pre_rf.best_estimator_\n",
    "accuracy_score(pre_best_rf.predict(pre_x_test), pre_y_test)"
   ]
  },
  {
   "cell_type": "code",
   "execution_count": 7,
   "id": "82b72b23-b27c-435b-884f-d82589c7059e",
   "metadata": {},
   "outputs": [
    {
     "data": {
      "text/plain": [
       "0.5104551045510455"
      ]
     },
     "execution_count": 7,
     "metadata": {},
     "output_type": "execute_result"
    }
   ],
   "source": [
    "params = {'loss': ['hinge', 'log'], 'alpha': [0.0001, 0.001, 0.01, 0.1]}\n",
    "pre_lc = GridSearchCV(SGDClassifier(), params, n_jobs=4)\n",
    "pre_lc.fit(pre_x_train, pre_y_train)\n",
    "pre_best_lc = pre_lc.best_estimator_\n",
    "accuracy_score(pre_best_lc.predict(pre_x_test), pre_y_test)"
   ]
  },
  {
   "cell_type": "code",
   "execution_count": 8,
   "id": "1f483671-c0e6-4076-8444-9de890e0238d",
   "metadata": {},
   "outputs": [
    {
     "data": {
      "text/plain": [
       "0.5257331520683628"
      ]
     },
     "execution_count": 8,
     "metadata": {},
     "output_type": "execute_result"
    }
   ],
   "source": [
    "params = {'max_depth': range(4, 30, 2)}\n",
    "pre_xgb = GridSearchCV(GradientBoostingClassifier(), params, n_jobs=4)\n",
    "pre_xgb.fit(pre_x_train, pre_y_train)\n",
    "pre_best_xgb = pre_xgb.best_estimator_\n",
    "accuracy_score(pre_best_xgb.predict(pre_x_test), pre_y_test)"
   ]
  },
  {
   "cell_type": "code",
   "execution_count": 28,
   "id": "a443cbaf-59a0-4eee-b4b9-5a6695312ea7",
   "metadata": {},
   "outputs": [],
   "source": [
    "# save the model in pickle mode\n",
    "pre_best_model = pre_best_xgb\n",
    "with open('models/pre_game_model.pkl', 'wb') as file:\n",
    "    pickle.dump(pre_best_model, file)"
   ]
  },
  {
   "cell_type": "markdown",
   "id": "f254bc1e-5e13-42ed-af8f-94e6bc6f7735",
   "metadata": {},
   "source": [
    "Beginning of the game: \n",
    "\n",
    "Predict the game result with ban-pick information and target kills including which team got the first blood, first tower, first Rift Herald, and first dragon, which all usually happen in the first 5 - 10 minutes of a game. "
   ]
  },
  {
   "cell_type": "code",
   "execution_count": 10,
   "id": "7d581165-a314-42e5-bc31-fc39fca0dff9",
   "metadata": {},
   "outputs": [
    {
     "data": {
      "text/plain": [
       "(36043, 15447, 36043, 15447)"
      ]
     },
     "execution_count": 10,
     "metadata": {},
     "output_type": "execute_result"
    }
   ],
   "source": [
    "begin_x = games[['t1_champ1id', 't1_champ1_sum1',\n",
    "                't1_champ1_sum2', 't1_champ2id', 't1_champ2_sum1', 't1_champ2_sum2',\n",
    "                't1_champ3id', 't1_champ3_sum1', 't1_champ3_sum2', 't1_champ4id',\n",
    "                't1_champ4_sum1', 't1_champ4_sum2', 't1_champ5id', 't1_champ5_sum1',\n",
    "                't1_champ5_sum2', 't1_ban1', 't1_ban2', 't1_ban3',\n",
    "                't1_ban4', 't1_ban5', 't2_champ1id', 't2_champ1_sum1', 't2_champ1_sum2',\n",
    "                't2_champ2id', 't2_champ2_sum1', 't2_champ2_sum2', 't2_champ3id',\n",
    "                't2_champ3_sum1', 't2_champ3_sum2', 't2_champ4id', 't2_champ4_sum1',\n",
    "                't2_champ4_sum2', 't2_champ5id', 't2_champ5_sum1', 't2_champ5_sum2',\n",
    "                't2_ban1', 't2_ban2', 't2_ban3', 't2_ban4',\n",
    "                't2_ban5', 'firstBlood', 'firstTower',\n",
    "                'firstDragon', 'firstRiftHerald']].copy()\n",
    "\n",
    "begin_y = games['winner'].copy()\n",
    "begin_x_train, begin_x_test, begin_y_train, begin_y_test = train_test_split(begin_x, begin_y, test_size=0.3, random_state=42)\n",
    "len(begin_x_train), len(begin_x_test), len(begin_y_train), len(begin_y_test)"
   ]
  },
  {
   "cell_type": "code",
   "execution_count": 11,
   "id": "00f901fe-5eb8-4b3b-bced-3140d61ffb44",
   "metadata": {},
   "outputs": [
    {
     "data": {
      "text/plain": [
       "0.7174855959085906"
      ]
     },
     "execution_count": 11,
     "metadata": {},
     "output_type": "execute_result"
    }
   ],
   "source": [
    "params = {'max_depth': range(4, 30, 2)}\n",
    "begin_dt = GridSearchCV(DecisionTreeClassifier(), params, n_jobs=4)\n",
    "begin_dt.fit(begin_x_train, begin_y_train)\n",
    "begin_best_dt = begin_dt.best_estimator_\n",
    "accuracy_score(begin_best_dt.predict(begin_x_test), begin_y_test)"
   ]
  },
  {
   "cell_type": "code",
   "execution_count": 12,
   "id": "dfdf4635-a418-44fe-a57e-37cc29eaa565",
   "metadata": {},
   "outputs": [
    {
     "data": {
      "text/plain": [
       "0.7248656697093286"
      ]
     },
     "execution_count": 12,
     "metadata": {},
     "output_type": "execute_result"
    }
   ],
   "source": [
    "params = {'max_depth': range(4, 30, 2)}\n",
    "begin_rf = GridSearchCV(RandomForestClassifier(), params, n_jobs=4)\n",
    "begin_rf.fit(begin_x_train, begin_y_train)\n",
    "begin_best_rf = begin_rf.best_estimator_\n",
    "accuracy_score(begin_best_rf.predict(begin_x_test), begin_y_test)"
   ]
  },
  {
   "cell_type": "code",
   "execution_count": 13,
   "id": "e2eb1f71-69db-40dc-b2a4-cfdbe44956ae",
   "metadata": {},
   "outputs": [
    {
     "data": {
      "text/plain": [
       "0.5959733281543341"
      ]
     },
     "execution_count": 13,
     "metadata": {},
     "output_type": "execute_result"
    }
   ],
   "source": [
    "params = {'loss': ['hinge', 'log'], 'alpha': [0.0001, 0.001, 0.01, 0.1]}\n",
    "begin_lc = GridSearchCV(SGDClassifier(), params, n_jobs=4)\n",
    "begin_lc.fit(begin_x_train, begin_y_train)\n",
    "begin_best_lc = begin_lc.best_estimator_\n",
    "accuracy_score(begin_best_lc.predict(begin_x_test), begin_y_test)"
   ]
  },
  {
   "cell_type": "code",
   "execution_count": 14,
   "id": "fe6ad1bf-1844-4882-a068-b25aa449e493",
   "metadata": {},
   "outputs": [
    {
     "data": {
      "text/plain": [
       "0.7271314818411342"
      ]
     },
     "execution_count": 14,
     "metadata": {},
     "output_type": "execute_result"
    }
   ],
   "source": [
    "params = {'max_depth': range(4, 30, 2)}\n",
    "begin_xgb = GridSearchCV(GradientBoostingClassifier(), params, n_jobs=4)\n",
    "begin_xgb.fit(begin_x_train, begin_y_train)\n",
    "begin_best_xgb = begin_xgb.best_estimator_\n",
    "accuracy_score(begin_best_xgb.predict(begin_x_test), begin_y_test)"
   ]
  },
  {
   "cell_type": "code",
   "execution_count": 15,
   "id": "cf56b86b-a4b8-4c99-a558-98c247b97757",
   "metadata": {},
   "outputs": [],
   "source": [
    "# save the model in pickle mode\n",
    "begin_best_model = begin_best_xgb\n",
    "with open('models/begin_game_model.pkl', 'wb') as file:\n",
    "    pickle.dump(begin_best_model, file)"
   ]
  },
  {
   "cell_type": "markdown",
   "id": "64926597-1c25-4733-b0fb-ea994ba5c7ba",
   "metadata": {},
   "source": [
    "Midgame model:\n",
    "\n",
    "Mid game usually refers to the game after 20 minutes. At that point, we collect all previously included information, plus number of towers and dragons each team destroyed so far, and which team got the first Baron and first Inhibitor. "
   ]
  },
  {
   "cell_type": "code",
   "execution_count": 16,
   "id": "7adc0601-f8ee-4dee-98a3-7c863afb98d3",
   "metadata": {},
   "outputs": [
    {
     "data": {
      "text/plain": [
       "(36043, 15447, 36043, 15447)"
      ]
     },
     "execution_count": 16,
     "metadata": {},
     "output_type": "execute_result"
    }
   ],
   "source": [
    "mid_x = games[['t1_champ1id', 't1_champ1_sum1',\n",
    "            't1_champ1_sum2', 't1_champ2id', 't1_champ2_sum1', 't1_champ2_sum2',\n",
    "            't1_champ3id', 't1_champ3_sum1', 't1_champ3_sum2', 't1_champ4id',\n",
    "            't1_champ4_sum1', 't1_champ4_sum2', 't1_champ5id', 't1_champ5_sum1',\n",
    "            't1_champ5_sum2', 't1_ban1', 't1_ban2', 't1_ban3',\n",
    "            't1_ban4', 't1_ban5', 't2_champ1id', 't2_champ1_sum1', 't2_champ1_sum2',\n",
    "            't2_champ2id', 't2_champ2_sum1', 't2_champ2_sum2', 't2_champ3id',\n",
    "            't2_champ3_sum1', 't2_champ3_sum2', 't2_champ4id', 't2_champ4_sum1',\n",
    "            't2_champ4_sum2', 't2_champ5id', 't2_champ5_sum1', 't2_champ5_sum2',\n",
    "            't2_ban1', 't2_ban2', 't2_ban3', 't2_ban4',\n",
    "            't2_ban5', 'firstBlood', 'firstTower', 'firstInhibitor', 'firstBaron',\n",
    "            'firstDragon', 'firstRiftHerald', 't1_towerKills', 't1_dragonKills', \n",
    "            't1_riftHeraldKills', 't2_towerKills', 't2_dragonKills','t2_riftHeraldKills']].copy()\n",
    "\n",
    "mid_x[['t1_towerKills', 't1_dragonKills', 't2_towerKills', 't2_dragonKills']] = \\\n",
    "    (mid_x[['t1_towerKills', 't1_dragonKills', 't2_towerKills', 't2_dragonKills']].astype(int) / 2).astype('category')\n",
    "\n",
    "mid_y = games['winner'].copy()\n",
    "mid_x_train, mid_x_test, mid_y_train, mid_y_test = train_test_split(mid_x, mid_y, test_size=0.3, random_state=42)\n",
    "len(mid_x_train), len(mid_x_test), len(mid_y_train), len(mid_y_test)"
   ]
  },
  {
   "cell_type": "code",
   "execution_count": 17,
   "id": "3c51b04d-0645-49d2-8c57-1754b008a085",
   "metadata": {},
   "outputs": [
    {
     "data": {
      "text/plain": [
       "0.9617401437172266"
      ]
     },
     "execution_count": 17,
     "metadata": {},
     "output_type": "execute_result"
    }
   ],
   "source": [
    "params = {'max_depth': range(4, 30, 2)}\n",
    "mid_dt = GridSearchCV(DecisionTreeClassifier(), params, n_jobs=4)\n",
    "mid_dt.fit(mid_x_train, mid_y_train)\n",
    "mid_best_dt = mid_dt.best_estimator_\n",
    "accuracy_score(mid_best_dt.predict(mid_x_test), mid_y_test)"
   ]
  },
  {
   "cell_type": "code",
   "execution_count": 18,
   "id": "085f940c-24b3-4b8e-a698-106ca6314770",
   "metadata": {},
   "outputs": [
    {
     "data": {
      "text/plain": [
       "0.9653007056386353"
      ]
     },
     "execution_count": 18,
     "metadata": {},
     "output_type": "execute_result"
    }
   ],
   "source": [
    "params = {'max_depth': range(4, 30, 2)}\n",
    "mid_rf = GridSearchCV(RandomForestClassifier(), params, n_jobs=4)\n",
    "mid_rf.fit(mid_x_train, mid_y_train)\n",
    "mid_best_rf = mid_rf.best_estimator_\n",
    "accuracy_score(mid_best_rf.predict(mid_x_test), mid_y_test)"
   ]
  },
  {
   "cell_type": "code",
   "execution_count": 19,
   "id": "077cc169-6306-47b1-88da-0fa2e95f8e8b",
   "metadata": {},
   "outputs": [
    {
     "data": {
      "text/plain": [
       "0.9451673464103062"
      ]
     },
     "execution_count": 19,
     "metadata": {},
     "output_type": "execute_result"
    }
   ],
   "source": [
    "params = {'loss': ['hinge', 'log'], 'alpha': [0.0001, 0.001, 0.01, 0.1]}\n",
    "mid_lc = GridSearchCV(SGDClassifier(), params, n_jobs=4)\n",
    "mid_lc.fit(mid_x_train, mid_y_train)\n",
    "mid_best_lc = mid_lc.best_estimator_\n",
    "accuracy_score(mid_best_lc.predict(mid_x_test), mid_y_test)"
   ]
  },
  {
   "cell_type": "code",
   "execution_count": 20,
   "id": "c4158bac-b2d0-42b5-961a-d61d3c2e1680",
   "metadata": {},
   "outputs": [
    {
     "data": {
      "text/plain": [
       "0.9665307179387583"
      ]
     },
     "execution_count": 20,
     "metadata": {},
     "output_type": "execute_result"
    }
   ],
   "source": [
    "params = {'max_depth': range(4, 30, 2)}\n",
    "mid_xgb = GridSearchCV(GradientBoostingClassifier(), params, n_jobs=4)\n",
    "mid_xgb.fit(mid_x_train, mid_y_train)\n",
    "mid_best_xgb = mid_xgb.best_estimator_\n",
    "accuracy_score(mid_best_xgb.predict(mid_x_test), mid_y_test)"
   ]
  },
  {
   "cell_type": "code",
   "execution_count": 21,
   "id": "4569a47a-1a99-4516-b4c7-b0fb6f84005d",
   "metadata": {},
   "outputs": [],
   "source": [
    "# save the model in pickle mode\n",
    "mid_best_model = mid_best_xgb\n",
    "with open('models/mid_game_model.pkl', 'wb') as file:\n",
    "    pickle.dump(mid_best_model, file)"
   ]
  },
  {
   "cell_type": "markdown",
   "id": "b46e4894-e878-4bdc-be78-90ffa54072b3",
   "metadata": {},
   "source": [
    "Lategame model:\n",
    "\n",
    "Estimate the game result with all information collected as the game is close to the end."
   ]
  },
  {
   "cell_type": "code",
   "execution_count": 22,
   "id": "55aee1db-e195-4a7e-982f-b53d680c2e8a",
   "metadata": {},
   "outputs": [
    {
     "data": {
      "text/plain": [
       "(36043, 15447, 36043, 15447)"
      ]
     },
     "execution_count": 22,
     "metadata": {},
     "output_type": "execute_result"
    }
   ],
   "source": [
    "post_game = games.copy()\n",
    "post_x = post_game.drop(labels='winner', axis=1)\n",
    "post_y = post_game['winner']\n",
    "post_x_train, post_x_test, post_y_train, post_y_test = train_test_split(post_x, post_y, test_size=0.3, random_state=42)\n",
    "len(post_x_train), len(post_x_test), len(post_y_train), len(post_y_test)"
   ]
  },
  {
   "cell_type": "code",
   "execution_count": 23,
   "id": "af32fbb1-cd2c-4da5-b69e-2f17881ff95d",
   "metadata": {},
   "outputs": [
    {
     "data": {
      "text/plain": [
       "0.9653007056386353"
      ]
     },
     "execution_count": 23,
     "metadata": {},
     "output_type": "execute_result"
    }
   ],
   "source": [
    "# use grid search with cv to find optimal parameters\n",
    "params = {'max_depth': range(4, 30, 2)}\n",
    "post_dt = GridSearchCV(DecisionTreeClassifier(), params, n_jobs=4)\n",
    "post_dt.fit(post_x_train, post_y_train)\n",
    "post_best_dt = post_dt.best_estimator_\n",
    "# accuracy of prediction\n",
    "accuracy_score(post_best_dt.predict(post_x_test), post_y_test)"
   ]
  },
  {
   "cell_type": "code",
   "execution_count": 24,
   "id": "631160a9-f663-43d1-bcb3-5f79a5090d11",
   "metadata": {},
   "outputs": [
    {
     "data": {
      "text/plain": [
       "0.9711270796918495"
      ]
     },
     "execution_count": 24,
     "metadata": {},
     "output_type": "execute_result"
    }
   ],
   "source": [
    "params = {'max_depth': range(4, 30, 2)}\n",
    "post_rf = GridSearchCV(RandomForestClassifier(), params, n_jobs=4)\n",
    "post_rf.fit(post_x_train, post_y_train)\n",
    "post_best_rf = post_rf.best_estimator_\n",
    "accuracy_score(post_best_rf.predict(post_x_test), post_y_test)"
   ]
  },
  {
   "cell_type": "code",
   "execution_count": 25,
   "id": "1434d14b-2637-43b0-a4b9-7d0ddfe3dc61",
   "metadata": {},
   "outputs": [
    {
     "data": {
      "text/plain": [
       "0.9590859066485402"
      ]
     },
     "execution_count": 25,
     "metadata": {},
     "output_type": "execute_result"
    }
   ],
   "source": [
    "params = {'loss': ['hinge', 'log'], 'alpha': [0.0001, 0.001, 0.01, 0.1]}\n",
    "post_lc = GridSearchCV(SGDClassifier(), params, n_jobs=4)\n",
    "post_lc.fit(post_x_train, post_y_train)\n",
    "post_best_lc = post_lc.best_estimator_\n",
    "accuracy_score(post_best_lc.predict(post_x_test), post_y_test)"
   ]
  },
  {
   "cell_type": "code",
   "execution_count": 47,
   "id": "b10a4054-5aac-40c2-9455-58ffe36fe509",
   "metadata": {},
   "outputs": [
    {
     "data": {
      "text/plain": [
       "0.9709976047128892"
      ]
     },
     "execution_count": 47,
     "metadata": {},
     "output_type": "execute_result"
    }
   ],
   "source": [
    "params = {'max_depth': range(4, 30, 2)}\n",
    "post_xgb = GridSearchCV(GradientBoostingClassifier(), params, n_jobs=4)\n",
    "post_xgb.fit(post_x_train, post_y_train)\n",
    "post_best_xgb = post_xgb.best_estimator_\n",
    "accuracy_score(post_best_xgb.predict(post_x_test), post_y_test)"
   ]
  },
  {
   "cell_type": "code",
   "execution_count": null,
   "id": "7a5c0980-dcfd-4cb7-928e-ebb3455dce84",
   "metadata": {},
   "outputs": [
    {
     "ename": "NameError",
     "evalue": "name 'post_best_xgb' is not defined",
     "output_type": "error",
     "traceback": [
      "\u001b[0;31m---------------------------------------------------------------------------\u001b[0m",
      "\u001b[0;31mNameError\u001b[0m                                 Traceback (most recent call last)",
      "Input \u001b[0;32mIn [1]\u001b[0m, in \u001b[0;36m<cell line: 2>\u001b[0;34m()\u001b[0m\n\u001b[1;32m      1\u001b[0m \u001b[38;5;66;03m# save the model in pickle mode\u001b[39;00m\n\u001b[0;32m----> 2\u001b[0m post_best_model \u001b[38;5;241m=\u001b[39m \u001b[43mpost_best_xgb\u001b[49m\n\u001b[1;32m      3\u001b[0m \u001b[38;5;28;01mwith\u001b[39;00m \u001b[38;5;28mopen\u001b[39m(\u001b[38;5;124m'\u001b[39m\u001b[38;5;124mmodels/late_game_model.pkl\u001b[39m\u001b[38;5;124m'\u001b[39m, \u001b[38;5;124m'\u001b[39m\u001b[38;5;124mwb\u001b[39m\u001b[38;5;124m'\u001b[39m) \u001b[38;5;28;01mas\u001b[39;00m file:\n\u001b[1;32m      4\u001b[0m     pickle\u001b[38;5;241m.\u001b[39mdump(post_best_model, file)\n",
      "\u001b[0;31mNameError\u001b[0m: name 'post_best_xgb' is not defined"
     ]
    }
   ],
   "source": [
    "# save the model in pickle mode\n",
    "post_best_model = post_best_xgb\n",
    "with open('models/post_game_model.pkl', 'wb') as file:\n",
    "    pickle.dump(post_best_model, file)"
   ]
  },
  {
   "cell_type": "code",
   "execution_count": null,
   "id": "9c1816e0-8798-48c4-a58f-9ff5d4aa2d88",
   "metadata": {},
   "outputs": [],
   "source": []
  },
  {
   "cell_type": "code",
   "execution_count": null,
   "id": "2dde2ba0-3030-4883-b559-41c47d53f0df",
   "metadata": {},
   "outputs": [],
   "source": []
  }
 ],
 "metadata": {
  "kernelspec": {
   "display_name": "Python 3 (ipykernel)",
   "language": "python",
   "name": "python3"
  },
  "language_info": {
   "codemirror_mode": {
    "name": "ipython",
    "version": 3
   },
   "file_extension": ".py",
   "mimetype": "text/x-python",
   "name": "python",
   "nbconvert_exporter": "python",
   "pygments_lexer": "ipython3",
   "version": "3.9.12"
  }
 },
 "nbformat": 4,
 "nbformat_minor": 5
}
